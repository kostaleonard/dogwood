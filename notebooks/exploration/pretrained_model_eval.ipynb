{
 "cells": [
  {
   "cell_type": "markdown",
   "id": "cd1c1a9b",
   "metadata": {},
   "source": [
    "# Pretrained model evaluation\n",
    "\n",
    "This notebook evaluates models in the pretraining pool."
   ]
  },
  {
   "cell_type": "markdown",
   "id": "b456aee9",
   "metadata": {},
   "source": [
    "## Change working directory to project root"
   ]
  },
  {
   "cell_type": "code",
   "execution_count": null,
   "id": "8b180325",
   "metadata": {},
   "outputs": [],
   "source": [
    "import os\n",
    "ROOT_DIRECTORIES = {'dogwood', 'tests'}\n",
    "if set(os.listdir('.')).intersection(ROOT_DIRECTORIES) != ROOT_DIRECTORIES:\n",
    "    os.chdir('../..')"
   ]
  },
  {
   "cell_type": "markdown",
   "id": "e7035914",
   "metadata": {},
   "source": [
    "## Exploration"
   ]
  },
  {
   "cell_type": "code",
   "execution_count": null,
   "id": "0cf104b4",
   "metadata": {},
   "outputs": [],
   "source": [
    "import numpy as np\n",
    "import matplotlib.pyplot as plt\n",
    "from tensorflow.keras.preprocessing.image import smart_resize\n",
    "from tensorflow.keras.applications.vgg16 import preprocess_input\n",
    "from tensorflow.keras.applications.efficientnet import \\\n",
    "    preprocess_input as preprocess_input_effnet\n",
    "from mlops.dataset.versioned_dataset import VersionedDataset\n",
    "from mlops.model.versioned_model import VersionedModel\n",
    "from dogwood.pretraining.pretraining_pool import PretrainingPool, \\\n",
    "    DATASET_MINI_IMAGENET"
   ]
  },
  {
   "cell_type": "code",
   "execution_count": null,
   "id": "6f6d836e",
   "metadata": {},
   "outputs": [],
   "source": [
    "pool = PretrainingPool()\n",
    "print('Models:')\n",
    "for model_path in pool.get_available_models():\n",
    "    print(model_path)\n",
    "print()\n",
    "print('Datasets:')\n",
    "for dataset_path in pool.get_available_datasets():\n",
    "    print(dataset_path)"
   ]
  },
  {
   "cell_type": "code",
   "execution_count": null,
   "id": "bd3f3988",
   "metadata": {},
   "outputs": [],
   "source": [
    "imagenet_dataset = VersionedDataset(\n",
    "    '/Users/leo/.dogwood/pretrained/datasets/imagenet-mini/v1')"
   ]
  },
  {
   "cell_type": "code",
   "execution_count": null,
   "id": "0066b959",
   "metadata": {},
   "outputs": [],
   "source": [
    "imagenet_dataset.X_train.shape"
   ]
  },
  {
   "cell_type": "code",
   "execution_count": null,
   "id": "9c9529d8",
   "metadata": {},
   "outputs": [],
   "source": [
    "imagenet_dataset.X_train.dtype"
   ]
  },
  {
   "cell_type": "code",
   "execution_count": null,
   "id": "218f8db2",
   "metadata": {},
   "outputs": [],
   "source": [
    "plt.imshow(imagenet_dataset.X_train[0])"
   ]
  },
  {
   "cell_type": "markdown",
   "id": "dc5c1095",
   "metadata": {},
   "source": [
    "### VGG16"
   ]
  },
  {
   "cell_type": "code",
   "execution_count": null,
   "id": "4b77bcb3",
   "metadata": {},
   "outputs": [],
   "source": [
    "X_train_resized = smart_resize(imagenet_dataset.X_train, (224, 224))"
   ]
  },
  {
   "cell_type": "code",
   "execution_count": null,
   "id": "357e468e",
   "metadata": {},
   "outputs": [],
   "source": [
    "X_train_resized.shape"
   ]
  },
  {
   "cell_type": "code",
   "execution_count": null,
   "id": "486d3882",
   "metadata": {},
   "outputs": [],
   "source": [
    "X_train_resized.dtype"
   ]
  },
  {
   "cell_type": "code",
   "execution_count": null,
   "id": "ac0ba61e",
   "metadata": {},
   "outputs": [],
   "source": [
    "X_train_resized.max()"
   ]
  },
  {
   "cell_type": "code",
   "execution_count": null,
   "id": "1ce3eda0",
   "metadata": {},
   "outputs": [],
   "source": [
    "plt.imshow(X_train_resized[0] / 255)"
   ]
  },
  {
   "cell_type": "code",
   "execution_count": null,
   "id": "f01638af",
   "metadata": {},
   "outputs": [],
   "source": [
    "imagenet_dataset.y_train.shape"
   ]
  },
  {
   "cell_type": "code",
   "execution_count": null,
   "id": "59c5013c",
   "metadata": {
    "scrolled": true
   },
   "outputs": [],
   "source": [
    "np.isclose(preprocess_input(X_train_resized[:2]), X_train_resized[:2])"
   ]
  },
  {
   "cell_type": "code",
   "execution_count": null,
   "id": "6f7bab97",
   "metadata": {},
   "outputs": [],
   "source": [
    "X_train_preprocessed = preprocess_input(X_train_resized)"
   ]
  },
  {
   "cell_type": "code",
   "execution_count": null,
   "id": "23ff397d",
   "metadata": {},
   "outputs": [],
   "source": [
    "vgg = VersionedModel('/Users/leo/.dogwood/pretrained/models/VGG16/v1')"
   ]
  },
  {
   "cell_type": "code",
   "execution_count": null,
   "id": "7572bc45",
   "metadata": {},
   "outputs": [],
   "source": [
    "vgg.model.compile(loss='categorical_crossentropy', metrics=['accuracy'])"
   ]
  },
  {
   "cell_type": "code",
   "execution_count": null,
   "id": "88a151b9",
   "metadata": {},
   "outputs": [],
   "source": [
    "vgg.model.evaluate(\n",
    "    X_train_preprocessed,\n",
    "    imagenet_dataset.y_train,\n",
    "    batch_size=32)"
   ]
  },
  {
   "cell_type": "markdown",
   "id": "06d6ab75",
   "metadata": {},
   "source": [
    "### EfficientNetB7"
   ]
  },
  {
   "cell_type": "code",
   "execution_count": null,
   "id": "87493eb8",
   "metadata": {},
   "outputs": [],
   "source": [
    "X_train_resized = smart_resize(imagenet_dataset.X_train[:1000], (600, 600))"
   ]
  },
  {
   "cell_type": "code",
   "execution_count": null,
   "id": "637cf32c",
   "metadata": {},
   "outputs": [],
   "source": [
    "X_train_resized.shape"
   ]
  },
  {
   "cell_type": "code",
   "execution_count": null,
   "id": "3f4fef30",
   "metadata": {},
   "outputs": [],
   "source": [
    "X_train_resized.dtype"
   ]
  },
  {
   "cell_type": "code",
   "execution_count": null,
   "id": "be29dade",
   "metadata": {},
   "outputs": [],
   "source": [
    "X_train_resized.max()"
   ]
  },
  {
   "cell_type": "code",
   "execution_count": null,
   "id": "d667e5e5",
   "metadata": {},
   "outputs": [],
   "source": [
    "X_train_preprocessed = preprocess_input_effnet(X_train_resized)"
   ]
  },
  {
   "cell_type": "code",
   "execution_count": null,
   "id": "4f571cbd",
   "metadata": {},
   "outputs": [],
   "source": [
    "effnet = VersionedModel(\n",
    "    '/Users/leo/.dogwood/pretrained/models/EfficientNetB7/v1')"
   ]
  },
  {
   "cell_type": "code",
   "execution_count": null,
   "id": "eb2f07d2",
   "metadata": {},
   "outputs": [],
   "source": [
    "effnet.model.compile(\n",
    "    loss='categorical_crossentropy',\n",
    "    metrics=['accuracy', 'top_k_categorical_accuracy'])"
   ]
  },
  {
   "cell_type": "code",
   "execution_count": null,
   "id": "4594f9e6",
   "metadata": {},
   "outputs": [],
   "source": [
    "effnet.model.evaluate(\n",
    "    X_train_preprocessed,\n",
    "    imagenet_dataset.y_train[:1000])"
   ]
  },
  {
   "cell_type": "code",
   "execution_count": null,
   "id": "3f7dfcc6",
   "metadata": {},
   "outputs": [],
   "source": []
  }
 ],
 "metadata": {
  "kernelspec": {
   "display_name": "Python 3 (ipykernel)",
   "language": "python",
   "name": "python3"
  },
  "language_info": {
   "codemirror_mode": {
    "name": "ipython",
    "version": 3
   },
   "file_extension": ".py",
   "mimetype": "text/x-python",
   "name": "python",
   "nbconvert_exporter": "python",
   "pygments_lexer": "ipython3",
   "version": "3.9.0"
  }
 },
 "nbformat": 4,
 "nbformat_minor": 5
}
