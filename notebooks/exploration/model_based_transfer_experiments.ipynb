{
 "cells": [
  {
   "cell_type": "markdown",
   "id": "c775ebd3",
   "metadata": {},
   "source": [
    "# Model-based transfer experiments\n",
    "\n",
    "This notebook contains experiments with model-based transfer techniques."
   ]
  },
  {
   "cell_type": "markdown",
   "id": "450c9f47",
   "metadata": {},
   "source": [
    "## Change working directory to project root"
   ]
  },
  {
   "cell_type": "code",
   "execution_count": null,
   "id": "01a4845e",
   "metadata": {},
   "outputs": [],
   "source": [
    "import os\n",
    "ROOT_DIRECTORIES = {'dogwood', 'tests'}\n",
    "if set(os.listdir('.')).intersection(ROOT_DIRECTORIES) != ROOT_DIRECTORIES:\n",
    "    os.chdir('../..')"
   ]
  },
  {
   "cell_type": "markdown",
   "id": "d9907ad9",
   "metadata": {},
   "source": [
    "## Exploration"
   ]
  },
  {
   "cell_type": "code",
   "execution_count": null,
   "id": "f5667e35",
   "metadata": {},
   "outputs": [],
   "source": [
    "from mlops.dataset.versioned_dataset import VersionedDataset\n",
    "from mlops.model.versioned_model import VersionedModel\n",
    "from dogwood.pretraining.pretraining_pool import PretrainingPool"
   ]
  },
  {
   "cell_type": "code",
   "execution_count": null,
   "id": "000083c2",
   "metadata": {},
   "outputs": [],
   "source": [
    "pool = PretrainingPool()\n",
    "print('Models:')\n",
    "for model_path in pool.get_available_models():\n",
    "    print(model_path)\n",
    "print()\n",
    "print('Datasets:')\n",
    "for dataset_path in pool.get_available_datasets():\n",
    "    print(dataset_path)"
   ]
  },
  {
   "cell_type": "code",
   "execution_count": null,
   "id": "7f625245",
   "metadata": {},
   "outputs": [],
   "source": [
    "dataset_imagenet = VersionedDataset(pool.get_dataset_path('imagenet-mini'))\n",
    "model_vgg16 = VersionedModel(pool.get_model_path('VGG16'))\n",
    "model_effnet = VersionedModel(pool.get_model_path('EfficientNetB7'))"
   ]
  },
  {
   "cell_type": "code",
   "execution_count": null,
   "id": "74e7b934",
   "metadata": {},
   "outputs": [],
   "source": [
    "model_vgg16.model.summary()"
   ]
  },
  {
   "cell_type": "code",
   "execution_count": null,
   "id": "78b9c2d6",
   "metadata": {},
   "outputs": [],
   "source": [
    "model_effnet.model.summary()"
   ]
  },
  {
   "cell_type": "code",
   "execution_count": null,
   "id": "cfce05c0",
   "metadata": {},
   "outputs": [],
   "source": []
  }
 ],
 "metadata": {
  "kernelspec": {
   "display_name": "Python 3 (ipykernel)",
   "language": "python",
   "name": "python3"
  },
  "language_info": {
   "codemirror_mode": {
    "name": "ipython",
    "version": 3
   },
   "file_extension": ".py",
   "mimetype": "text/x-python",
   "name": "python",
   "nbconvert_exporter": "python",
   "pygments_lexer": "ipython3",
   "version": "3.9.0"
  }
 },
 "nbformat": 4,
 "nbformat_minor": 5
}
