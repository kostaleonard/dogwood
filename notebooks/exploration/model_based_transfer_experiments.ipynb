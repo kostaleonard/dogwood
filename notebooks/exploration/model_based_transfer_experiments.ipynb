{
 "cells": [
  {
   "cell_type": "markdown",
   "id": "c775ebd3",
   "metadata": {},
   "source": [
    "# Model-based transfer experiments\n",
    "\n",
    "This notebook contains experiments with model-based transfer techniques."
   ]
  },
  {
   "cell_type": "markdown",
   "id": "450c9f47",
   "metadata": {},
   "source": [
    "## Change working directory to project root"
   ]
  },
  {
   "cell_type": "code",
   "execution_count": null,
   "id": "01a4845e",
   "metadata": {},
   "outputs": [],
   "source": [
    "import os\n",
    "ROOT_DIRECTORIES = {'dogwood', 'tests'}\n",
    "if set(os.listdir('.')).intersection(ROOT_DIRECTORIES) != ROOT_DIRECTORIES:\n",
    "    os.chdir('../..')"
   ]
  },
  {
   "cell_type": "markdown",
   "id": "d9907ad9",
   "metadata": {},
   "source": [
    "## Exploration"
   ]
  },
  {
   "cell_type": "code",
   "execution_count": null,
   "id": "f5667e35",
   "metadata": {},
   "outputs": [],
   "source": [
    "from itertools import chain\n",
    "import matplotlib.pyplot as plt\n",
    "import numpy as np\n",
    "from tensorflow.keras.datasets import mnist\n",
    "from tensorflow.keras.models import Sequential\n",
    "from tensorflow.keras.layers import Flatten, Dense\n",
    "from mlops.dataset.versioned_dataset import VersionedDataset\n",
    "from mlops.model.versioned_model import VersionedModel\n",
    "from dogwood.pretraining.pretraining_pool import PretrainingPool\n",
    "from dogwood.model_expansion import expand_dense_layer"
   ]
  },
  {
   "cell_type": "code",
   "execution_count": null,
   "id": "f3af3458",
   "metadata": {},
   "outputs": [],
   "source": [
    "MAX_PIXEL_VALUE = 255\n",
    "MNIST_IMAGE_SHAPE = (28, 28)"
   ]
  },
  {
   "cell_type": "code",
   "execution_count": null,
   "id": "000083c2",
   "metadata": {},
   "outputs": [],
   "source": [
    "pool = PretrainingPool()\n",
    "print('Models:')\n",
    "for model_path in pool.get_available_models():\n",
    "    print(model_path)\n",
    "print()\n",
    "print('Datasets:')\n",
    "for dataset_path in pool.get_available_datasets():\n",
    "    print(dataset_path)"
   ]
  },
  {
   "cell_type": "code",
   "execution_count": null,
   "id": "7f625245",
   "metadata": {},
   "outputs": [],
   "source": [
    "dataset_imagenet = VersionedDataset(pool.get_dataset_path('imagenet-mini'))\n",
    "model_vgg16 = VersionedModel(pool.get_model_path('VGG16'))\n",
    "model_effnet = VersionedModel(pool.get_model_path('EfficientNetB7'))"
   ]
  },
  {
   "cell_type": "code",
   "execution_count": null,
   "id": "74e7b934",
   "metadata": {},
   "outputs": [],
   "source": [
    "model_vgg16.model.summary()"
   ]
  },
  {
   "cell_type": "code",
   "execution_count": null,
   "id": "78b9c2d6",
   "metadata": {},
   "outputs": [],
   "source": [
    "model_effnet.model.summary()"
   ]
  },
  {
   "cell_type": "code",
   "execution_count": null,
   "id": "cfce05c0",
   "metadata": {},
   "outputs": [],
   "source": [
    "# TODO mnist layer expansion, starting from one neuron.\n",
    "(X_train, y_train), (X_test, y_test) = mnist.load_data()\n",
    "X_train = X_train.astype(np.float32) / MAX_PIXEL_VALUE\n",
    "X_test = X_test.astype(np.float32) / MAX_PIXEL_VALUE"
   ]
  },
  {
   "cell_type": "code",
   "execution_count": null,
   "id": "8c5278f7",
   "metadata": {},
   "outputs": [],
   "source": [
    "model = Sequential(\n",
    "    [\n",
    "        Flatten(input_shape=MNIST_IMAGE_SHAPE, name=\"flatten\"),\n",
    "        Dense(1, activation=\"relu\", name=\"dense_1\"),\n",
    "        Dense(10, activation=\"softmax\", name=\"dense_2\"),\n",
    "    ],\n",
    "    name=\"micro_mnist_model\",\n",
    ")\n",
    "model.compile(\n",
    "    optimizer=\"adam\",\n",
    "    loss=\"sparse_categorical_crossentropy\",\n",
    "    metrics=[\"sparse_categorical_accuracy\"],\n",
    ")"
   ]
  },
  {
   "cell_type": "code",
   "execution_count": null,
   "id": "744659ed",
   "metadata": {},
   "outputs": [],
   "source": [
    "history = model.fit(X_train, y_train, epochs=10)"
   ]
  },
  {
   "cell_type": "code",
   "execution_count": null,
   "id": "451e30c5",
   "metadata": {},
   "outputs": [],
   "source": [
    "max_num_hidden_layer_neurons = 10\n",
    "num_epochs_per_new_neuron = 2"
   ]
  },
  {
   "cell_type": "code",
   "execution_count": null,
   "id": "a09f01f3",
   "metadata": {},
   "outputs": [],
   "source": [
    "model = Sequential(\n",
    "    [\n",
    "        Flatten(input_shape=MNIST_IMAGE_SHAPE, name=\"flatten\"),\n",
    "        Dense(1, activation=\"relu\", name=\"dense_1\"),\n",
    "        Dense(10, activation=\"softmax\", name=\"dense_2\"),\n",
    "    ],\n",
    "    name=\"micro_mnist_model\",\n",
    ")\n",
    "model.compile(\n",
    "    optimizer=\"adam\",\n",
    "    loss=\"sparse_categorical_crossentropy\",\n",
    "    metrics=[\"sparse_categorical_accuracy\"],\n",
    ")\n",
    "histories = []\n",
    "for num_hidden_layer_neurons in range(max_num_hidden_layer_neurons):\n",
    "    history = model.fit(X_train, y_train, epochs=num_epochs_per_new_neuron)\n",
    "    histories.append(history)\n",
    "    if num_hidden_layer_neurons < max_num_hidden_layer_neurons:\n",
    "        model = expand_dense_layer(model, 'dense_1', 1)\n",
    "        model.compile(\n",
    "            optimizer=\"adam\",\n",
    "            loss=\"sparse_categorical_crossentropy\",\n",
    "            metrics=[\"sparse_categorical_accuracy\"],\n",
    "        )"
   ]
  },
  {
   "cell_type": "code",
   "execution_count": null,
   "id": "f338585e",
   "metadata": {},
   "outputs": [],
   "source": [
    "acc_by_epoch = list(chain.from_iterable(\n",
    "    [history.history['sparse_categorical_accuracy'] for history in histories]))"
   ]
  },
  {
   "cell_type": "code",
   "execution_count": null,
   "id": "ea7e8a2a",
   "metadata": {},
   "outputs": [],
   "source": [
    "plt.plot(range(len(acc_by_epoch)), acc_by_epoch)\n",
    "plt.xlim([0, len(acc_by_epoch) - 1])\n",
    "plt.ylim([0, 1])\n",
    "plt.show()"
   ]
  },
  {
   "cell_type": "code",
   "execution_count": null,
   "id": "9ae8a13f",
   "metadata": {},
   "outputs": [],
   "source": [
    "model = Sequential(\n",
    "    [\n",
    "        Flatten(input_shape=MNIST_IMAGE_SHAPE, name=\"flatten\"),\n",
    "        Dense(10, activation=\"relu\", name=\"dense_1\"),\n",
    "        Dense(10, activation=\"softmax\", name=\"dense_2\"),\n",
    "    ],\n",
    "    name=\"micro_mnist_model\",\n",
    ")\n",
    "model.compile(\n",
    "    optimizer=\"adam\",\n",
    "    loss=\"sparse_categorical_crossentropy\",\n",
    "    metrics=[\"sparse_categorical_accuracy\"],\n",
    ")\n",
    "history = model.fit(X_train, y_train, epochs=20)"
   ]
  },
  {
   "cell_type": "code",
   "execution_count": null,
   "id": "b929e601",
   "metadata": {},
   "outputs": [],
   "source": [
    "plt.plot(\n",
    "    range(len(history.history['sparse_categorical_accuracy'])),\n",
    "    history.history['sparse_categorical_accuracy']\n",
    ")\n",
    "plt.xlim([0, len(history.history['sparse_categorical_accuracy']) - 1])\n",
    "plt.ylim([0, 1])\n",
    "plt.show()"
   ]
  },
  {
   "cell_type": "code",
   "execution_count": null,
   "id": "4662a0e9",
   "metadata": {},
   "outputs": [],
   "source": []
  }
 ],
 "metadata": {
  "kernelspec": {
   "display_name": "Python 3 (ipykernel)",
   "language": "python",
   "name": "python3"
  },
  "language_info": {
   "codemirror_mode": {
    "name": "ipython",
    "version": 3
   },
   "file_extension": ".py",
   "mimetype": "text/x-python",
   "name": "python",
   "nbconvert_exporter": "python",
   "pygments_lexer": "ipython3",
   "version": "3.9.0"
  }
 },
 "nbformat": 4,
 "nbformat_minor": 5
}
