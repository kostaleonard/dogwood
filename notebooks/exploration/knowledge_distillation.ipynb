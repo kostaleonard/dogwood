{
 "cells": [
  {
   "cell_type": "markdown",
   "id": "09715aa0",
   "metadata": {},
   "source": [
    "# Knowledge distillation\n",
    "\n",
    "This notebook explores knowledge distillation techniques on MNIST. Knowledge distillation is using a trained network to create a new network that is almost as good. The new network is traditionally much smaller than the input, making the tradeoff worthwhile."
   ]
  },
  {
   "cell_type": "markdown",
   "id": "caef3d3e",
   "metadata": {},
   "source": [
    "## Change working directory to project root"
   ]
  },
  {
   "cell_type": "code",
   "execution_count": null,
   "id": "b79842ce",
   "metadata": {},
   "outputs": [],
   "source": [
    "import os\n",
    "ROOT_DIRECTORIES = {'dogwood', 'tests'}\n",
    "if set(os.listdir('.')).intersection(ROOT_DIRECTORIES) != ROOT_DIRECTORIES:\n",
    "    os.chdir('../..')"
   ]
  },
  {
   "cell_type": "markdown",
   "id": "2bf12af6",
   "metadata": {},
   "source": [
    "## Exploration"
   ]
  },
  {
   "cell_type": "code",
   "execution_count": null,
   "id": "74ed6447",
   "metadata": {},
   "outputs": [],
   "source": [
    "from pathlib import Path\n",
    "import numpy as np\n",
    "import matplotlib.pyplot as plt\n",
    "import h5py\n",
    "from sklearn.linear_model import LogisticRegression\n",
    "import tensorflow as tf\n",
    "from tensorflow.keras.datasets import mnist\n",
    "from tensorflow.keras.models import Sequential\n",
    "from tensorflow.keras.layers import Dense, Flatten\n",
    "from tensorflow.keras.initializers import Constant, GlorotUniform"
   ]
  },
  {
   "cell_type": "code",
   "execution_count": null,
   "id": "96c104fb",
   "metadata": {},
   "outputs": [],
   "source": [
    "MNIST_IMAGE_SHAPE = (28, 28)\n",
    "MAX_PIXEL_VALUE = 255\n",
    "MODEL_SAVE_DIR = '/tmp/dogwood/mnist'"
   ]
  },
  {
   "cell_type": "code",
   "execution_count": null,
   "id": "4057a7ed",
   "metadata": {},
   "outputs": [],
   "source": [
    "(X_train, y_train), (X_test, y_test) = mnist.load_data()\n",
    "X_train = tf.cast(X_train, tf.float32) / MAX_PIXEL_VALUE\n",
    "X_test = tf.cast(X_test, tf.float32) / MAX_PIXEL_VALUE\n",
    "print(X_train.shape)\n",
    "print(y_train.shape)\n",
    "print(X_test.shape)\n",
    "print(y_test.shape)"
   ]
  },
  {
   "cell_type": "code",
   "execution_count": null,
   "id": "24d9b1fa",
   "metadata": {},
   "outputs": [],
   "source": [
    "model = Sequential([\n",
    "    Flatten(input_shape=(MNIST_IMAGE_SHAPE), name='flatten'),\n",
    "    Dense(128, activation='relu', name='dense_1'),\n",
    "    Dense(10, activation='softmax', name='dense_2')\n",
    "])\n",
    "model.compile(optimizer='adam',\n",
    "              loss='sparse_categorical_crossentropy',\n",
    "              metrics=['sparse_categorical_accuracy'])"
   ]
  },
  {
   "cell_type": "code",
   "execution_count": null,
   "id": "137825bb",
   "metadata": {},
   "outputs": [],
   "source": [
    "model.fit(X_train, y_train, epochs=10, batch_size=32)"
   ]
  },
  {
   "cell_type": "code",
   "execution_count": null,
   "id": "4de363ca",
   "metadata": {},
   "outputs": [],
   "source": [
    "model.evaluate(X_test, y_test)"
   ]
  },
  {
   "cell_type": "markdown",
   "id": "0ceac1a3",
   "metadata": {},
   "source": [
    "## Student trained on original features with model's labels\n",
    "\n",
    "First let's train a student network using the model's output as labels."
   ]
  },
  {
   "cell_type": "code",
   "execution_count": null,
   "id": "5f64bf6d",
   "metadata": {},
   "outputs": [],
   "source": [
    "y_student = tf.argmax(model(X_train), axis=1)\n",
    "print(y_student.shape)\n",
    "print(y_student[0])"
   ]
  },
  {
   "cell_type": "code",
   "execution_count": null,
   "id": "aecf2bca",
   "metadata": {},
   "outputs": [],
   "source": [
    "student = Sequential([\n",
    "    Flatten(input_shape=(MNIST_IMAGE_SHAPE), name='flatten'),\n",
    "    Dense(128, activation='relu', name='dense_1'),\n",
    "    Dense(10, activation='softmax', name='dense_2')\n",
    "])\n",
    "student.compile(optimizer='adam',\n",
    "                loss='sparse_categorical_crossentropy',\n",
    "                metrics=['sparse_categorical_accuracy'])"
   ]
  },
  {
   "cell_type": "code",
   "execution_count": null,
   "id": "cde97bd8",
   "metadata": {},
   "outputs": [],
   "source": [
    "student.fit(X_train, y_student, epochs=10, batch_size=32)"
   ]
  },
  {
   "cell_type": "code",
   "execution_count": null,
   "id": "b9709d15",
   "metadata": {},
   "outputs": [],
   "source": [
    "student.evaluate(X_test, y_test)"
   ]
  },
  {
   "cell_type": "markdown",
   "id": "aebec8cf",
   "metadata": {},
   "source": [
    "So, we can successfully train a new network using the model's output as labels, and it performs well."
   ]
  },
  {
   "cell_type": "markdown",
   "id": "ddd43dac",
   "metadata": {},
   "source": [
    "## Random labels\n",
    "\n",
    "What if we train a student model on random data? Can that work?"
   ]
  },
  {
   "cell_type": "markdown",
   "id": "a1db5af4",
   "metadata": {},
   "source": [
    "### Student model with softmax labels\n",
    "\n",
    "We now train a student model on the output of the teacher network."
   ]
  },
  {
   "cell_type": "code",
   "execution_count": null,
   "id": "4c691e16",
   "metadata": {},
   "outputs": [],
   "source": [
    "# Here we train the student on the softmax output.\n",
    "# We could do the sparse representation instead.\n",
    "X_student = np.random.rand(*X_train.numpy().shape)\n",
    "y_student = model(X_student)\n",
    "print(X_student.shape)\n",
    "print(y_student.shape)\n",
    "print(y_student[0])"
   ]
  },
  {
   "cell_type": "code",
   "execution_count": null,
   "id": "f6883b89",
   "metadata": {},
   "outputs": [],
   "source": [
    "y_test_one_hot = tf.keras.utils.to_categorical(y_test)\n",
    "y_test_one_hot.shape"
   ]
  },
  {
   "cell_type": "code",
   "execution_count": null,
   "id": "8089d790",
   "metadata": {},
   "outputs": [],
   "source": [
    "student_1 = Sequential([\n",
    "    Flatten(input_shape=(MNIST_IMAGE_SHAPE), name='flatten'),\n",
    "    Dense(128, activation='relu', name='dense_1'),\n",
    "    Dense(10, activation='softmax', name='dense_2')\n",
    "])\n",
    "student_1.compile(optimizer='adam',\n",
    "                  loss='categorical_crossentropy',\n",
    "                  metrics=['categorical_accuracy'])"
   ]
  },
  {
   "cell_type": "code",
   "execution_count": null,
   "id": "2871dee5",
   "metadata": {},
   "outputs": [],
   "source": [
    "student_1.fit(X_student, y_student, epochs=10, batch_size=32)"
   ]
  },
  {
   "cell_type": "code",
   "execution_count": null,
   "id": "5c2c0d10",
   "metadata": {},
   "outputs": [],
   "source": [
    "student_1.evaluate(X_test, y_test_one_hot)"
   ]
  },
  {
   "cell_type": "markdown",
   "id": "91d39377",
   "metadata": {},
   "source": [
    "### Student model with sparse labels"
   ]
  },
  {
   "cell_type": "code",
   "execution_count": null,
   "id": "eadeb1cd",
   "metadata": {},
   "outputs": [],
   "source": [
    "y_student_sparse = tf.argmax(y_student, axis=1)\n",
    "print(y_student_sparse.shape)\n",
    "print(y_student_sparse[0])"
   ]
  },
  {
   "cell_type": "code",
   "execution_count": null,
   "id": "e875030c",
   "metadata": {},
   "outputs": [],
   "source": [
    "student_2 = Sequential([\n",
    "    Flatten(input_shape=(MNIST_IMAGE_SHAPE), name='flatten'),\n",
    "    Dense(128, activation='relu', name='dense_1'),\n",
    "    Dense(10, activation='softmax', name='dense_2')\n",
    "])\n",
    "student_2.compile(optimizer='adam',\n",
    "                 loss='sparse_categorical_crossentropy',\n",
    "                 metrics=['sparse_categorical_accuracy'])"
   ]
  },
  {
   "cell_type": "code",
   "execution_count": null,
   "id": "7608a833",
   "metadata": {},
   "outputs": [],
   "source": [
    "student_2.fit(X_student, y_student_sparse, epochs=10, batch_size=32)"
   ]
  },
  {
   "cell_type": "code",
   "execution_count": null,
   "id": "23424903",
   "metadata": {},
   "outputs": [],
   "source": [
    "student_2.evaluate(X_test, y_test)"
   ]
  },
  {
   "cell_type": "markdown",
   "id": "c7818315",
   "metadata": {},
   "source": [
    "### Lots of data\n",
    "\n",
    "What if we use a lot more data for the student model?"
   ]
  },
  {
   "cell_type": "code",
   "execution_count": null,
   "id": "55e46f58",
   "metadata": {},
   "outputs": [],
   "source": [
    "X_student = np.random.rand(600000, 28, 28)\n",
    "y_student = model(X_student)\n",
    "y_student_sparse = tf.argmax(y_student, axis=1)\n",
    "print(X_student.shape)\n",
    "print(y_student.shape)\n",
    "print(y_student[0])\n",
    "print(y_student_sparse.shape)\n",
    "print(y_student_sparse[0])"
   ]
  },
  {
   "cell_type": "code",
   "execution_count": null,
   "id": "42690bf2",
   "metadata": {},
   "outputs": [],
   "source": [
    "student_3 = Sequential([\n",
    "    Flatten(input_shape=(MNIST_IMAGE_SHAPE), name='flatten'),\n",
    "    Dense(128, activation='relu', name='dense_1'),\n",
    "    Dense(10, activation='softmax', name='dense_2')\n",
    "])\n",
    "student_3.compile(optimizer='adam',\n",
    "                  loss='categorical_crossentropy',\n",
    "                  metrics=['categorical_accuracy'])"
   ]
  },
  {
   "cell_type": "code",
   "execution_count": null,
   "id": "d889c26d",
   "metadata": {},
   "outputs": [],
   "source": [
    "student_3.fit(X_student, y_student, epochs=10, batch_size=32)"
   ]
  },
  {
   "cell_type": "code",
   "execution_count": null,
   "id": "24d2f201",
   "metadata": {},
   "outputs": [],
   "source": [
    "student_3.evaluate(X_test, y_test_one_hot)"
   ]
  },
  {
   "cell_type": "markdown",
   "id": "e72ca24a",
   "metadata": {},
   "source": [
    "### Smaller student network\n",
    "\n",
    "What if we force the student to distill knowledge?"
   ]
  },
  {
   "cell_type": "code",
   "execution_count": null,
   "id": "7a827bab",
   "metadata": {},
   "outputs": [],
   "source": [
    "student_4 = Sequential([\n",
    "    Flatten(input_shape=(MNIST_IMAGE_SHAPE), name='flatten'),\n",
    "    Dense(16, activation='relu', name='dense_1'),\n",
    "    Dense(10, activation='softmax', name='dense_2')\n",
    "])\n",
    "student_4.compile(optimizer='adam',\n",
    "                  loss='categorical_crossentropy',\n",
    "                  metrics=['categorical_accuracy'])"
   ]
  },
  {
   "cell_type": "code",
   "execution_count": null,
   "id": "28ae143a",
   "metadata": {},
   "outputs": [],
   "source": [
    "student_4.fit(X_student, y_student, epochs=10, batch_size=32)"
   ]
  },
  {
   "cell_type": "code",
   "execution_count": null,
   "id": "14046337",
   "metadata": {},
   "outputs": [],
   "source": [
    "student_4.evaluate(X_test, y_test_one_hot)"
   ]
  },
  {
   "cell_type": "code",
   "execution_count": null,
   "id": "10e505fa",
   "metadata": {},
   "outputs": [],
   "source": []
  }
 ],
 "metadata": {
  "kernelspec": {
   "display_name": "Python 3 (ipykernel)",
   "language": "python",
   "name": "python3"
  },
  "language_info": {
   "codemirror_mode": {
    "name": "ipython",
    "version": 3
   },
   "file_extension": ".py",
   "mimetype": "text/x-python",
   "name": "python",
   "nbconvert_exporter": "python",
   "pygments_lexer": "ipython3",
   "version": "3.9.0"
  }
 },
 "nbformat": 4,
 "nbformat_minor": 5
}
