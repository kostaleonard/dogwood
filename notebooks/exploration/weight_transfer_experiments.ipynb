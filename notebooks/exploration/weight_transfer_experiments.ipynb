{
 "cells": [
  {
   "cell_type": "markdown",
   "id": "6520a163",
   "metadata": {},
   "source": [
    "# Weight transfer experiments\n",
    "\n",
    "In this notebook, we conduct weight transfer experiments on MNIST."
   ]
  },
  {
   "cell_type": "markdown",
   "id": "38711adc",
   "metadata": {},
   "source": [
    "## Change working directory to project root"
   ]
  },
  {
   "cell_type": "code",
   "execution_count": null,
   "id": "bc8eefb8",
   "metadata": {},
   "outputs": [],
   "source": [
    "import os\n",
    "ROOT_DIRECTORIES = {'dogwood', 'tests'}\n",
    "if set(os.listdir('.')).intersection(ROOT_DIRECTORIES) != ROOT_DIRECTORIES:\n",
    "    os.chdir('../..')"
   ]
  },
  {
   "cell_type": "markdown",
   "id": "3524a2a7",
   "metadata": {},
   "source": [
    "## Experiments"
   ]
  },
  {
   "cell_type": "code",
   "execution_count": null,
   "id": "8b9ae8d5",
   "metadata": {},
   "outputs": [],
   "source": [
    "import matplotlib.pyplot as plt\n",
    "import tensorflow as tf\n",
    "from tensorflow.keras.datasets import mnist\n",
    "from tensorflow.keras.models import Sequential\n",
    "from tensorflow.keras.layers import Flatten, Dense\n",
    "from dogwood.weight_transfer import are_symmetric_dense_neurons, \\\n",
    "    expand_dense_layer, expand_dense_layers, clone_layer\n",
    "\n",
    "MAX_PIXEL_VALUE = 255\n",
    "MNIST_IMAGE_SHAPE = (28, 28)"
   ]
  },
  {
   "cell_type": "code",
   "execution_count": null,
   "id": "78a377a0",
   "metadata": {},
   "outputs": [],
   "source": [
    "# TODO should we make MNIST a versioned dataset?\n",
    "(X_train, y_train), (X_test, y_test) = mnist.load_data()\n",
    "X_train = tf.cast(X_train, tf.float32) / MAX_PIXEL_VALUE\n",
    "X_test = tf.cast(X_test, tf.float32) / MAX_PIXEL_VALUE"
   ]
  },
  {
   "cell_type": "code",
   "execution_count": null,
   "id": "7998aeb2",
   "metadata": {},
   "outputs": [],
   "source": [
    "def get_small_model(num_hidden=1):\n",
    "    model = Sequential([\n",
    "        Flatten(input_shape=MNIST_IMAGE_SHAPE, name='flatten'),\n",
    "        Dense(num_hidden, activation='relu', name='dense_1'),\n",
    "        Dense(10, activation='softmax', name='dense_2')\n",
    "    ])\n",
    "    model.compile(optimizer='adam',\n",
    "                  loss='sparse_categorical_crossentropy',\n",
    "                  metrics=['sparse_categorical_accuracy'])\n",
    "    return model"
   ]
  },
  {
   "cell_type": "markdown",
   "id": "66c2c09e",
   "metadata": {},
   "source": [
    "**One hidden layer weight expansion experiment on MNIST**\n",
    "\n",
    "In this experiment, we compare the training progress of models trained from scratch against those with partially pretrained weights. We also compare their performance on the test data after training."
   ]
  },
  {
   "cell_type": "code",
   "execution_count": null,
   "id": "af06263d",
   "metadata": {},
   "outputs": [],
   "source": [
    "batch_size = 32\n",
    "epochs = 20\n",
    "# TODO add evaluation\n",
    "from_scratch_histories = {}\n",
    "from_scratch_eval = {}\n",
    "expanded_histories = {}\n",
    "expanded_eval = {}\n",
    "expanded_model = None\n",
    "for num_hidden in range(1, 6):\n",
    "    from_scratch_model = get_small_model(num_hidden)\n",
    "    history = from_scratch_model.fit(X_train, y_train, batch_size=batch_size, epochs=epochs)\n",
    "    from_scratch_histories[num_hidden] = history\n",
    "    # The first iteration, the expanded model is created from scratch.\n",
    "    # Every other iteration, expand.\n",
    "    if not expanded_model:\n",
    "        expanded_model = get_small_model(num_hidden)\n",
    "    else:\n",
    "        expanded_model = expand_dense_layer(expanded_model, 'dense_1', 1)\n",
    "        expanded_model.compile(\n",
    "            optimizer='adam',\n",
    "            loss='sparse_categorical_crossentropy',\n",
    "            metrics=['sparse_categorical_accuracy'])\n",
    "    history = expanded_model.fit(X_train, y_train, batch_size=batch_size, epochs=epochs)\n",
    "    expanded_histories[num_hidden] = history"
   ]
  },
  {
   "cell_type": "code",
   "execution_count": null,
   "id": "d1638baa",
   "metadata": {},
   "outputs": [],
   "source": [
    "plt.plot(from_scratch_histories[1].history['sparse_categorical_accuracy'])\n",
    "plt.plot(expanded_histories[1].history['sparse_categorical_accuracy'])\n",
    "plt.show()"
   ]
  },
  {
   "cell_type": "code",
   "execution_count": null,
   "id": "64f5f51a",
   "metadata": {},
   "outputs": [],
   "source": [
    "fig, ax = plt.subplots(figsize=(10, 10))\n",
    "for num_hidden in sorted(from_scratch_histories.keys()):    \n",
    "    plt.plot(from_scratch_histories[num_hidden].history['sparse_categorical_accuracy'], '-', label=f'S{num_hidden}')\n",
    "    plt.plot(expanded_histories[num_hidden].history['sparse_categorical_accuracy'], 'o', label=f'E{num_hidden}')\n",
    "plt.legend()\n",
    "plt.xlim([0, epochs])\n",
    "plt.ylim([0, 1])\n",
    "plt.xticks(list(range(epochs)))\n",
    "plt.show()"
   ]
  },
  {
   "cell_type": "code",
   "execution_count": null,
   "id": "0a3fc940",
   "metadata": {},
   "outputs": [],
   "source": []
  }
 ],
 "metadata": {
  "kernelspec": {
   "display_name": "Python 3 (ipykernel)",
   "language": "python",
   "name": "python3"
  },
  "language_info": {
   "codemirror_mode": {
    "name": "ipython",
    "version": 3
   },
   "file_extension": ".py",
   "mimetype": "text/x-python",
   "name": "python",
   "nbconvert_exporter": "python",
   "pygments_lexer": "ipython3",
   "version": "3.9.0"
  }
 },
 "nbformat": 4,
 "nbformat_minor": 5
}
