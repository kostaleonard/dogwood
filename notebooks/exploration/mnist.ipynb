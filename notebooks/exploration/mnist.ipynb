{
 "cells": [
  {
   "cell_type": "markdown",
   "id": "09715aa0",
   "metadata": {},
   "source": [
    "# MNIST\n",
    "\n",
    "This notebook explores transfer learning techniques on MNIST."
   ]
  },
  {
   "cell_type": "markdown",
   "id": "caef3d3e",
   "metadata": {},
   "source": [
    "## Change working directory to project root"
   ]
  },
  {
   "cell_type": "code",
   "execution_count": null,
   "id": "b79842ce",
   "metadata": {},
   "outputs": [],
   "source": [
    "import os\n",
    "ROOT_DIRECTORIES = {'dogwood', 'tests'}\n",
    "if set(os.listdir('.')).intersection(ROOT_DIRECTORIES) != ROOT_DIRECTORIES:\n",
    "    os.chdir('../..')"
   ]
  },
  {
   "cell_type": "markdown",
   "id": "2bf12af6",
   "metadata": {},
   "source": [
    "## Exploration"
   ]
  },
  {
   "cell_type": "code",
   "execution_count": null,
   "id": "74ed6447",
   "metadata": {},
   "outputs": [],
   "source": [
    "from pathlib import Path\n",
    "import numpy as np\n",
    "import matplotlib.pyplot as plt\n",
    "import h5py\n",
    "import tensorflow as tf\n",
    "from tensorflow.keras.datasets import mnist\n",
    "from tensorflow.keras.models import Sequential\n",
    "from tensorflow.keras.layers import Dense, Flatten"
   ]
  },
  {
   "cell_type": "code",
   "execution_count": null,
   "id": "96c104fb",
   "metadata": {},
   "outputs": [],
   "source": [
    "MNIST_IMAGE_SHAPE = (28, 28)\n",
    "MAX_PIXEL_VALUE = 255\n",
    "MODEL_SAVE_DIR = '/tmp/dogwood/mnist'"
   ]
  },
  {
   "cell_type": "code",
   "execution_count": null,
   "id": "4057a7ed",
   "metadata": {},
   "outputs": [],
   "source": [
    "(X_train, y_train), (X_test, y_test) = mnist.load_data()\n",
    "X_train = tf.cast(X_train, tf.float32) / MAX_PIXEL_VALUE\n",
    "X_test = tf.cast(X_test, tf.float32) / MAX_PIXEL_VALUE\n",
    "print(X_train.shape)\n",
    "print(y_train.shape)\n",
    "print(X_test.shape)\n",
    "print(y_test.shape)"
   ]
  },
  {
   "cell_type": "code",
   "execution_count": null,
   "id": "24d9b1fa",
   "metadata": {},
   "outputs": [],
   "source": [
    "model = Sequential([\n",
    "    Flatten(input_shape=(MNIST_IMAGE_SHAPE)),\n",
    "    Dense(128, activation='relu', name='dense_1'),\n",
    "    Dense(10, activation='softmax', name='dense_2')\n",
    "])\n",
    "model.compile(optimizer='adam',\n",
    "              loss='sparse_categorical_crossentropy',\n",
    "              metrics=['sparse_categorical_accuracy'])"
   ]
  },
  {
   "cell_type": "code",
   "execution_count": null,
   "id": "137825bb",
   "metadata": {},
   "outputs": [],
   "source": [
    "model.fit(X_train, y_train, epochs=10, batch_size=32)"
   ]
  },
  {
   "cell_type": "code",
   "execution_count": null,
   "id": "4de363ca",
   "metadata": {},
   "outputs": [],
   "source": [
    "model.evaluate(X_test, y_test)"
   ]
  },
  {
   "cell_type": "markdown",
   "id": "7d3442b7",
   "metadata": {},
   "source": [
    "## New models using (sometimes partially) pretrained weights"
   ]
  },
  {
   "cell_type": "code",
   "execution_count": null,
   "id": "ac8778e1",
   "metadata": {},
   "outputs": [],
   "source": [
    "Path(MODEL_SAVE_DIR).mkdir(parents=True, exist_ok=True)\n",
    "model_path = os.path.join(MODEL_SAVE_DIR, 'model.h5')\n",
    "model.save_weights(model_path)"
   ]
  },
  {
   "cell_type": "code",
   "execution_count": null,
   "id": "b51e04d8",
   "metadata": {},
   "outputs": [],
   "source": [
    "with h5py.File(model_path, 'r') as infile:\n",
    "    print(infile.keys())"
   ]
  },
  {
   "cell_type": "code",
   "execution_count": null,
   "id": "1754103a",
   "metadata": {},
   "outputs": [],
   "source": [
    "with h5py.File(model_path, 'r') as infile:\n",
    "    print(infile['dense_1'].keys())"
   ]
  },
  {
   "cell_type": "code",
   "execution_count": null,
   "id": "7e312bc7",
   "metadata": {},
   "outputs": [],
   "source": [
    "with h5py.File(model_path, 'r') as infile:\n",
    "    print(infile['dense_1']['dense_1'].keys())"
   ]
  },
  {
   "cell_type": "code",
   "execution_count": null,
   "id": "328a08a5",
   "metadata": {},
   "outputs": [],
   "source": [
    "with h5py.File(model_path, 'r') as infile:\n",
    "    print(infile['dense_1']['dense_1']['bias:0'])"
   ]
  },
  {
   "cell_type": "code",
   "execution_count": null,
   "id": "5c965a00",
   "metadata": {},
   "outputs": [],
   "source": [
    "with h5py.File(model_path, 'r') as infile:\n",
    "    print(infile['dense_1']['dense_1']['kernel:0'])"
   ]
  },
  {
   "cell_type": "markdown",
   "id": "7db965e6",
   "metadata": {},
   "source": [
    "We can visualize these weights in a 2D plot, although they make more sense in 28 x 28."
   ]
  },
  {
   "cell_type": "code",
   "execution_count": null,
   "id": "ddc760b7",
   "metadata": {},
   "outputs": [],
   "source": [
    "with h5py.File(model_path, 'r') as infile:\n",
    "    biases_1 = infile['dense_1']['dense_1']['bias:0'][:]\n",
    "    weights_1 = infile['dense_1']['dense_1']['kernel:0'][:]"
   ]
  },
  {
   "cell_type": "code",
   "execution_count": null,
   "id": "94438530",
   "metadata": {},
   "outputs": [],
   "source": [
    "fig, ax = plt.subplots(figsize=(8, 8))\n",
    "heatmap = ax.pcolor(weights_1.T, cmap=plt.cm.Blues)\n",
    "cbar = ax.figure.colorbar(heatmap, ax=ax)\n",
    "plt.show()"
   ]
  },
  {
   "cell_type": "code",
   "execution_count": null,
   "id": "7ffc73be",
   "metadata": {},
   "outputs": [],
   "source": [
    "fig, ax = plt.subplots(figsize=(8, 8))\n",
    "heatmap = ax.pcolor(np.expand_dims(biases_1, axis=-1), cmap=plt.cm.Blues)\n",
    "cbar = ax.figure.colorbar(heatmap, ax=ax)\n",
    "plt.show()"
   ]
  },
  {
   "cell_type": "code",
   "execution_count": null,
   "id": "16343fee",
   "metadata": {},
   "outputs": [],
   "source": [
    "figs, axes = plt.subplots(ncols=2, figsize=(12, 8))\n",
    "heatmap_weights = axes[0].pcolor(weights_1.T, cmap=plt.cm.Blues)\n",
    "heatmap_biases = axes[1].pcolor(np.expand_dims(biases_1, axis=-1), cmap=plt.cm.Blues)\n",
    "plt.show()"
   ]
  },
  {
   "cell_type": "code",
   "execution_count": null,
   "id": "ceb743fb",
   "metadata": {},
   "outputs": [],
   "source": []
  }
 ],
 "metadata": {
  "kernelspec": {
   "display_name": "Python 3",
   "language": "python",
   "name": "python3"
  },
  "language_info": {
   "codemirror_mode": {
    "name": "ipython",
    "version": 3
   },
   "file_extension": ".py",
   "mimetype": "text/x-python",
   "name": "python",
   "nbconvert_exporter": "python",
   "pygments_lexer": "ipython3",
   "version": "3.6.13"
  }
 },
 "nbformat": 4,
 "nbformat_minor": 5
}
