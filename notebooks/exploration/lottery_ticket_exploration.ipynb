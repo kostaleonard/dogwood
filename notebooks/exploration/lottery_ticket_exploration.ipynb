{
 "cells": [
  {
   "cell_type": "markdown",
   "id": "18d8aff6",
   "metadata": {},
   "source": [
    "# Lottery ticket exploration\n",
    "\n",
    "This notebook explores lottery tickets and how they could be manipulated."
   ]
  },
  {
   "cell_type": "markdown",
   "id": "6bf46a5d",
   "metadata": {},
   "source": [
    "## Change working directory to project root"
   ]
  },
  {
   "cell_type": "code",
   "execution_count": null,
   "id": "2babdc11",
   "metadata": {},
   "outputs": [],
   "source": [
    "import os\n",
    "ROOT_DIRECTORIES = {'dogwood', 'tests'}\n",
    "if set(os.listdir('.')).intersection(ROOT_DIRECTORIES) != ROOT_DIRECTORIES:\n",
    "    os.chdir('../..')"
   ]
  },
  {
   "cell_type": "markdown",
   "id": "67a89644",
   "metadata": {},
   "source": [
    "## Exploration"
   ]
  },
  {
   "cell_type": "markdown",
   "id": "b3c0b6a0",
   "metadata": {},
   "source": [
    "### Train a model on MNIST"
   ]
  },
  {
   "cell_type": "code",
   "execution_count": null,
   "id": "28c487ab",
   "metadata": {},
   "outputs": [],
   "source": [
    "import numpy as np\n",
    "import tensorflow as tf\n",
    "from tensorflow.keras.datasets import mnist\n",
    "from tensorflow.keras.models import Sequential\n",
    "from tensorflow.keras.layers import Dense, Flatten, Layer"
   ]
  },
  {
   "cell_type": "code",
   "execution_count": null,
   "id": "df4ee494",
   "metadata": {},
   "outputs": [],
   "source": [
    "MNIST_IMAGE_SHAPE = (28, 28)\n",
    "MAX_PIXEL_VALUE = 255\n",
    "MODEL_SAVE_DIR = '/tmp/dogwood/mnist'"
   ]
  },
  {
   "cell_type": "code",
   "execution_count": null,
   "id": "3905c8cb",
   "metadata": {},
   "outputs": [],
   "source": [
    "(X_train, y_train), (X_test, y_test) = mnist.load_data()\n",
    "X_train = tf.cast(X_train, tf.float32) / MAX_PIXEL_VALUE\n",
    "X_test = tf.cast(X_test, tf.float32) / MAX_PIXEL_VALUE\n",
    "print(X_train.shape)\n",
    "print(y_train.shape)\n",
    "print(X_test.shape)\n",
    "print(y_test.shape)"
   ]
  },
  {
   "cell_type": "code",
   "execution_count": null,
   "id": "8a305559",
   "metadata": {},
   "outputs": [],
   "source": [
    "model = Sequential([\n",
    "    Flatten(input_shape=(MNIST_IMAGE_SHAPE), name='flatten'),\n",
    "    Dense(128, activation='relu', name='dense_1'),\n",
    "    Dense(10, activation='softmax', name='dense_2')\n",
    "])\n",
    "model.compile(optimizer='adam',\n",
    "              loss='sparse_categorical_crossentropy',\n",
    "              metrics=['sparse_categorical_accuracy'])"
   ]
  },
  {
   "cell_type": "code",
   "execution_count": null,
   "id": "889423a6",
   "metadata": {},
   "outputs": [],
   "source": [
    "dense_1_initial_weights = model.layers[1].get_weights()\n",
    "dense_2_initial_weights = model.layers[2].get_weights()"
   ]
  },
  {
   "cell_type": "code",
   "execution_count": null,
   "id": "8472da87",
   "metadata": {},
   "outputs": [],
   "source": [
    "model.fit(X_train, y_train, epochs=10, batch_size=32)"
   ]
  },
  {
   "cell_type": "code",
   "execution_count": null,
   "id": "171499e5",
   "metadata": {},
   "outputs": [],
   "source": [
    "model.evaluate(X_test, y_test)"
   ]
  },
  {
   "cell_type": "markdown",
   "id": "01f1edde",
   "metadata": {},
   "source": [
    "### Identify lottery tickets\n",
    "\n",
    "According to Frankle and Carbin (2019), we can identify a winning ticket almost trivially by performing the following steps.\n",
    "\n",
    "1. Randomly initialize a neural network.\n",
    "1. Train the network.\n",
    "1. Prune p% of the parameters in the trained weights, creating a mask. The lowest-magnitude parameters are trimmed.\n",
    "1. Reset these parameters to their randomly initialized values, creating the winning ticket."
   ]
  },
  {
   "cell_type": "code",
   "execution_count": null,
   "id": "b70ac583",
   "metadata": {},
   "outputs": [],
   "source": [
    "def get_prune_mask(weights: np.ndarray, prune_rate: float) -> np.ndarray:\n",
    "    \"\"\"Returns a mask representing the pruned parameters.\n",
    "    \n",
    "    Pruned parameters are given a value of 0 in the mask; retained parameters\n",
    "    are given a value of 1. The lowest-magnitude parameters are pruned.\n",
    "    \n",
    "    :param weights: The weights of one layer in a neural network.\n",
    "    :param prune_rate: The fraction of parameters to prune in the range [0, 1].\n",
    "    :return: A binary mask representing the pruned parameters.\n",
    "    \"\"\"\n",
    "    # TODO"
   ]
  }
 ],
 "metadata": {
  "kernelspec": {
   "display_name": "Python 3 (ipykernel)",
   "language": "python",
   "name": "python3"
  },
  "language_info": {
   "codemirror_mode": {
    "name": "ipython",
    "version": 3
   },
   "file_extension": ".py",
   "mimetype": "text/x-python",
   "name": "python",
   "nbconvert_exporter": "python",
   "pygments_lexer": "ipython3",
   "version": "3.9.0"
  }
 },
 "nbformat": 4,
 "nbformat_minor": 5
}
