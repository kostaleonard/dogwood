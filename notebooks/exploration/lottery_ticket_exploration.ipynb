{
 "cells": [
  {
   "cell_type": "markdown",
   "id": "d9731bed",
   "metadata": {},
   "source": [
    "# Lottery ticket exploration\n",
    "\n",
    "This notebook explores lottery tickets and how they could be manipulated."
   ]
  },
  {
   "cell_type": "markdown",
   "id": "5e4ea53d",
   "metadata": {},
   "source": [
    "## Change working directory to project root"
   ]
  },
  {
   "cell_type": "code",
   "execution_count": null,
   "id": "66a8dce6",
   "metadata": {},
   "outputs": [],
   "source": [
    "import os\n",
    "ROOT_DIRECTORIES = {'dogwood', 'tests'}\n",
    "if set(os.listdir('.')).intersection(ROOT_DIRECTORIES) != ROOT_DIRECTORIES:\n",
    "    os.chdir('../..')"
   ]
  },
  {
   "cell_type": "markdown",
   "id": "28e295cf",
   "metadata": {},
   "source": [
    "## Exploration"
   ]
  },
  {
   "cell_type": "markdown",
   "id": "20255f33",
   "metadata": {},
   "source": [
    "### Train a model on MNIST"
   ]
  },
  {
   "cell_type": "code",
   "execution_count": null,
   "id": "180a440f",
   "metadata": {},
   "outputs": [],
   "source": [
    "import numpy as np\n",
    "import plotly.express as px\n",
    "import tensorflow as tf\n",
    "from tensorflow.keras.datasets import mnist\n",
    "from tensorflow.keras.models import Sequential\n",
    "from tensorflow.keras.layers import Dense, Flatten, Layer"
   ]
  },
  {
   "cell_type": "code",
   "execution_count": null,
   "id": "97057a3c",
   "metadata": {},
   "outputs": [],
   "source": [
    "MNIST_IMAGE_SHAPE = (28, 28)\n",
    "MAX_PIXEL_VALUE = 255\n",
    "MODEL_SAVE_DIR = '/tmp/dogwood/mnist'"
   ]
  },
  {
   "cell_type": "code",
   "execution_count": null,
   "id": "3dadbb04",
   "metadata": {},
   "outputs": [],
   "source": [
    "(X_train, y_train), (X_test, y_test) = mnist.load_data()\n",
    "X_train = tf.cast(X_train, tf.float32) / MAX_PIXEL_VALUE\n",
    "X_test = tf.cast(X_test, tf.float32) / MAX_PIXEL_VALUE\n",
    "print(X_train.shape)\n",
    "print(y_train.shape)\n",
    "print(X_test.shape)\n",
    "print(y_test.shape)"
   ]
  },
  {
   "cell_type": "code",
   "execution_count": null,
   "id": "78a6b5c3",
   "metadata": {},
   "outputs": [],
   "source": [
    "model = Sequential([\n",
    "    Flatten(input_shape=(MNIST_IMAGE_SHAPE), name='flatten'),\n",
    "    Dense(128, activation='relu', name='dense_1'),\n",
    "    Dense(10, activation='softmax', name='dense_2')\n",
    "])\n",
    "model.compile(optimizer='adam',\n",
    "              loss='sparse_categorical_crossentropy',\n",
    "              metrics=['sparse_categorical_accuracy'])"
   ]
  },
  {
   "cell_type": "code",
   "execution_count": null,
   "id": "54170afc",
   "metadata": {},
   "outputs": [],
   "source": [
    "dense_1_initial_weights_and_biases = model.layers[1].get_weights()\n",
    "dense_1_initial_weights = dense_1_initial_weights_and_biases[0]\n",
    "dense_2_initial_weights_and_biases = model.layers[2].get_weights()\n",
    "dense_2_initial_weights = dense_2_initial_weights_and_biases[0]"
   ]
  },
  {
   "cell_type": "code",
   "execution_count": null,
   "id": "1717476a",
   "metadata": {},
   "outputs": [],
   "source": [
    "model.fit(X_train, y_train, epochs=10, batch_size=32)"
   ]
  },
  {
   "cell_type": "code",
   "execution_count": null,
   "id": "e5e18241",
   "metadata": {},
   "outputs": [],
   "source": [
    "model.evaluate(X_test, y_test)"
   ]
  },
  {
   "cell_type": "markdown",
   "id": "aa5579d7",
   "metadata": {},
   "source": [
    "### Identify lottery tickets\n",
    "\n",
    "According to Frankle and Carbin (2019), we can identify a winning ticket almost trivially by performing the following steps.\n",
    "\n",
    "1. Randomly initialize a neural network.\n",
    "1. Train the network.\n",
    "1. Prune p% of the parameters in the trained weights, creating a mask. The lowest-magnitude parameters are trimmed.\n",
    "1. Reset these parameters to their randomly initialized values, creating the winning ticket."
   ]
  },
  {
   "cell_type": "code",
   "execution_count": null,
   "id": "d6af2d06",
   "metadata": {},
   "outputs": [],
   "source": [
    "def get_prune_mask(weights: np.ndarray, prune_rate: float) -> np.ndarray:\n",
    "    \"\"\"Returns a mask representing the pruned parameters.\n",
    "    \n",
    "    Pruned parameters are given a value of 0 in the mask; retained parameters\n",
    "    are given a value of 1. The lowest-magnitude parameters are pruned. If\n",
    "    prune_rate is set to 0.9, then 90% of parameters are masked.\n",
    "    \n",
    "    :param weights: The weights of one layer in a neural network.\n",
    "    :param prune_rate: The fraction of parameters to prune in the range [0, 1].\n",
    "    :return: A binary mask representing the pruned parameters.\n",
    "    \"\"\"\n",
    "    # TODO I think we need to do abs first.\n",
    "    min_keep = np.quantile(weights, prune_rate)\n",
    "    return weights >= min_keep"
   ]
  },
  {
   "cell_type": "code",
   "execution_count": null,
   "id": "2168f24c",
   "metadata": {},
   "outputs": [],
   "source": [
    "dense_1_initial_weights"
   ]
  },
  {
   "cell_type": "code",
   "execution_count": null,
   "id": "d3b85cb7",
   "metadata": {},
   "outputs": [],
   "source": [
    "np.quantile(dense_1_initial_weights, 0.99)"
   ]
  },
  {
   "cell_type": "code",
   "execution_count": null,
   "id": "cee9cfb5",
   "metadata": {},
   "outputs": [],
   "source": [
    "dense_1_initial_weights.min()"
   ]
  },
  {
   "cell_type": "code",
   "execution_count": null,
   "id": "6bbb850e",
   "metadata": {},
   "outputs": [],
   "source": [
    "dense_1_initial_weights.max()"
   ]
  },
  {
   "cell_type": "code",
   "execution_count": null,
   "id": "39656978",
   "metadata": {},
   "outputs": [],
   "source": [
    "(dense_1_initial_weights > np.quantile(dense_1_initial_weights, 0.92)).mean()"
   ]
  },
  {
   "cell_type": "code",
   "execution_count": null,
   "id": "aa5634f0",
   "metadata": {},
   "outputs": [],
   "source": [
    "dense_1_mask = get_prune_mask(dense_1_initial_weights, 0.9)\n",
    "dense_1_mask.mean()"
   ]
  },
  {
   "cell_type": "code",
   "execution_count": null,
   "id": "e6445adf",
   "metadata": {},
   "outputs": [],
   "source": [
    "dense_1_mask.shape"
   ]
  },
  {
   "cell_type": "code",
   "execution_count": null,
   "id": "01594d6a",
   "metadata": {},
   "outputs": [],
   "source": [
    "dense_2_mask = get_prune_mask(dense_2_initial_weights, 0.9)\n",
    "dense_2_mask.mean()"
   ]
  },
  {
   "cell_type": "code",
   "execution_count": null,
   "id": "8c44b790",
   "metadata": {},
   "outputs": [],
   "source": [
    "dense_2_mask.shape"
   ]
  },
  {
   "cell_type": "markdown",
   "id": "a205ec80",
   "metadata": {},
   "source": [
    "### Visualize lottery tickets"
   ]
  },
  {
   "cell_type": "code",
   "execution_count": null,
   "id": "bdca0395",
   "metadata": {},
   "outputs": [],
   "source": [
    "dense_1_mask_rect = dense_1_mask.reshape((28, 28, 128))\n",
    "dense_1_mask_rect.shape"
   ]
  },
  {
   "cell_type": "code",
   "execution_count": null,
   "id": "dd2e62bf",
   "metadata": {},
   "outputs": [],
   "source": [
    "fig = px.imshow(dense_1_mask_rect.mean(axis=-1))\n",
    "fig.show()"
   ]
  },
  {
   "cell_type": "code",
   "execution_count": null,
   "id": "5f029d0b",
   "metadata": {},
   "outputs": [],
   "source": [
    "fig = px.imshow(dense_2_mask, zmin=0, zmax=1)\n",
    "fig.show()"
   ]
  },
  {
   "cell_type": "code",
   "execution_count": null,
   "id": "e3c494a6",
   "metadata": {},
   "outputs": [],
   "source": []
  }
 ],
 "metadata": {
  "kernelspec": {
   "display_name": "Python 3 (ipykernel)",
   "language": "python",
   "name": "python3"
  },
  "language_info": {
   "codemirror_mode": {
    "name": "ipython",
    "version": 3
   },
   "file_extension": ".py",
   "mimetype": "text/x-python",
   "name": "python",
   "nbconvert_exporter": "python",
   "pygments_lexer": "ipython3",
   "version": "3.9.0"
  }
 },
 "nbformat": 4,
 "nbformat_minor": 5
}
